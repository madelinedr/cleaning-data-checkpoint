{
 "cells": [
  {
   "cell_type": "markdown",
   "metadata": {
    "azdata_cell_guid": "26037d32-2047-4157-81ef-595916bd66a0"
   },
   "source": [
    "# Checkpoint Three: Cleaning Data\n",
    "\n",
    "Now you are ready to clean your data. Before starting coding, provide the link to your dataset below.\n",
    "\n",
    "My dataset:\n",
    "\n",
    "Import the necessary libraries and create your dataframe(s)."
   ]
  },
  {
   "cell_type": "code",
   "execution_count": 2,
   "metadata": {
    "azdata_cell_guid": "e8adef8e-d0f2-4640-a179-5997f11e82ca"
   },
   "outputs": [
    {
     "name": "stderr",
     "output_type": "stream",
     "text": [
      "C:\\Users\\Madeline\\anaconda3\\lib\\site-packages\\numpy\\lib\\arraysetops.py:583: FutureWarning: elementwise comparison failed; returning scalar instead, but in the future will perform elementwise comparison\n",
      "  mask |= (ar1 == a)\n"
     ]
    },
    {
     "data": {
      "text/html": [
       "<div>\n",
       "<style scoped>\n",
       "    .dataframe tbody tr th:only-of-type {\n",
       "        vertical-align: middle;\n",
       "    }\n",
       "\n",
       "    .dataframe tbody tr th {\n",
       "        vertical-align: top;\n",
       "    }\n",
       "\n",
       "    .dataframe thead th {\n",
       "        text-align: right;\n",
       "    }\n",
       "</style>\n",
       "<table border=\"1\" class=\"dataframe\">\n",
       "  <thead>\n",
       "    <tr style=\"text-align: right;\">\n",
       "      <th></th>\n",
       "      <th>brewery_name</th>\n",
       "      <th>review_time</th>\n",
       "      <th>review_overall</th>\n",
       "      <th>review_aroma</th>\n",
       "      <th>review_appearance</th>\n",
       "      <th>review_profilename</th>\n",
       "      <th>beer_style</th>\n",
       "      <th>review_palate</th>\n",
       "      <th>review_taste</th>\n",
       "      <th>beer_name</th>\n",
       "      <th>beer_abv</th>\n",
       "      <th>beer_beerid</th>\n",
       "    </tr>\n",
       "    <tr>\n",
       "      <th>brewery_id</th>\n",
       "      <th></th>\n",
       "      <th></th>\n",
       "      <th></th>\n",
       "      <th></th>\n",
       "      <th></th>\n",
       "      <th></th>\n",
       "      <th></th>\n",
       "      <th></th>\n",
       "      <th></th>\n",
       "      <th></th>\n",
       "      <th></th>\n",
       "      <th></th>\n",
       "    </tr>\n",
       "  </thead>\n",
       "  <tbody>\n",
       "    <tr>\n",
       "      <th>10325</th>\n",
       "      <td>Vecchio Birraio</td>\n",
       "      <td>1234817823</td>\n",
       "      <td>1.5</td>\n",
       "      <td>2.0</td>\n",
       "      <td>2.5</td>\n",
       "      <td>stcules</td>\n",
       "      <td>Hefeweizen</td>\n",
       "      <td>1.5</td>\n",
       "      <td>1.5</td>\n",
       "      <td>Sausa Weizen</td>\n",
       "      <td>5.0</td>\n",
       "      <td>47986</td>\n",
       "    </tr>\n",
       "    <tr>\n",
       "      <th>10325</th>\n",
       "      <td>Vecchio Birraio</td>\n",
       "      <td>1235915097</td>\n",
       "      <td>3.0</td>\n",
       "      <td>2.5</td>\n",
       "      <td>3.0</td>\n",
       "      <td>stcules</td>\n",
       "      <td>English Strong Ale</td>\n",
       "      <td>3.0</td>\n",
       "      <td>3.0</td>\n",
       "      <td>Red Moon</td>\n",
       "      <td>6.2</td>\n",
       "      <td>48213</td>\n",
       "    </tr>\n",
       "    <tr>\n",
       "      <th>10325</th>\n",
       "      <td>Vecchio Birraio</td>\n",
       "      <td>1235916604</td>\n",
       "      <td>3.0</td>\n",
       "      <td>2.5</td>\n",
       "      <td>3.0</td>\n",
       "      <td>stcules</td>\n",
       "      <td>Foreign / Export Stout</td>\n",
       "      <td>3.0</td>\n",
       "      <td>3.0</td>\n",
       "      <td>Black Horse Black Beer</td>\n",
       "      <td>6.5</td>\n",
       "      <td>48215</td>\n",
       "    </tr>\n",
       "    <tr>\n",
       "      <th>10325</th>\n",
       "      <td>Vecchio Birraio</td>\n",
       "      <td>1234725145</td>\n",
       "      <td>3.0</td>\n",
       "      <td>3.0</td>\n",
       "      <td>3.5</td>\n",
       "      <td>stcules</td>\n",
       "      <td>German Pilsener</td>\n",
       "      <td>2.5</td>\n",
       "      <td>3.0</td>\n",
       "      <td>Sausa Pils</td>\n",
       "      <td>5.0</td>\n",
       "      <td>47969</td>\n",
       "    </tr>\n",
       "    <tr>\n",
       "      <th>1075</th>\n",
       "      <td>Caldera Brewing Company</td>\n",
       "      <td>1293735206</td>\n",
       "      <td>4.0</td>\n",
       "      <td>4.5</td>\n",
       "      <td>4.0</td>\n",
       "      <td>johnmichaelsen</td>\n",
       "      <td>American Double / Imperial IPA</td>\n",
       "      <td>4.0</td>\n",
       "      <td>4.5</td>\n",
       "      <td>Cauldron DIPA</td>\n",
       "      <td>7.7</td>\n",
       "      <td>64883</td>\n",
       "    </tr>\n",
       "  </tbody>\n",
       "</table>\n",
       "</div>"
      ],
      "text/plain": [
       "                       brewery_name  review_time  review_overall  \\\n",
       "brewery_id                                                         \n",
       "10325               Vecchio Birraio   1234817823             1.5   \n",
       "10325               Vecchio Birraio   1235915097             3.0   \n",
       "10325               Vecchio Birraio   1235916604             3.0   \n",
       "10325               Vecchio Birraio   1234725145             3.0   \n",
       "1075        Caldera Brewing Company   1293735206             4.0   \n",
       "\n",
       "            review_aroma  review_appearance review_profilename  \\\n",
       "brewery_id                                                       \n",
       "10325                2.0                2.5            stcules   \n",
       "10325                2.5                3.0            stcules   \n",
       "10325                2.5                3.0            stcules   \n",
       "10325                3.0                3.5            stcules   \n",
       "1075                 4.5                4.0     johnmichaelsen   \n",
       "\n",
       "                                beer_style  review_palate  review_taste  \\\n",
       "brewery_id                                                                \n",
       "10325                           Hefeweizen            1.5           1.5   \n",
       "10325                   English Strong Ale            3.0           3.0   \n",
       "10325               Foreign / Export Stout            3.0           3.0   \n",
       "10325                      German Pilsener            2.5           3.0   \n",
       "1075        American Double / Imperial IPA            4.0           4.5   \n",
       "\n",
       "                         beer_name  beer_abv  beer_beerid  \n",
       "brewery_id                                                 \n",
       "10325                 Sausa Weizen       5.0        47986  \n",
       "10325                     Red Moon       6.2        48213  \n",
       "10325       Black Horse Black Beer       6.5        48215  \n",
       "10325                   Sausa Pils       5.0        47969  \n",
       "1075                 Cauldron DIPA       7.7        64883  "
      ]
     },
     "execution_count": 2,
     "metadata": {},
     "output_type": "execute_result"
    }
   ],
   "source": [
    "import pandas as pd\n",
    "import numpy as np\n",
    "import matplotlib.pyplot as plt\n",
    "from matplotlib import style\n",
    "import seaborn as sb\n",
    "\n",
    "beer_df = pd.read_csv(\"beer_reviews.csv\", index_col=[0])\n",
    "beer_df.head()"
   ]
  },
  {
   "cell_type": "markdown",
   "metadata": {
    "azdata_cell_guid": "e172475a-c4ee-414a-8367-9965355dbba6"
   },
   "source": [
    "## Missing Data\n",
    "\n",
    "Test your dataset for missing data and handle it as needed. Make notes in the form of code comments as to your thought process."
   ]
  },
  {
   "cell_type": "code",
   "execution_count": 3,
   "metadata": {
    "azdata_cell_guid": "e1dc66ef-e471-4c27-92e7-ee878c106eba"
   },
   "outputs": [
    {
     "name": "stdout",
     "output_type": "stream",
     "text": [
      "brewery_name - 0.001%\n",
      "review_time - 0.0%\n",
      "review_overall - 0.0%\n",
      "review_aroma - 0.0%\n",
      "review_appearance - 0.0%\n",
      "review_profilename - 0.022%\n",
      "beer_style - 0.0%\n",
      "review_palate - 0.0%\n",
      "review_taste - 0.0%\n",
      "beer_name - 0.0%\n",
      "beer_abv - 4.272%\n",
      "beer_beerid - 0.0%\n"
     ]
    }
   ],
   "source": [
    "for col in beer_df.columns:\n",
    "    pct_missing = np.mean(beer_df[col].isnull())\n",
    "    print('{} - {}%'.format(col, round(pct_missing*100, 3)))\n",
    "    \n",
    "    # As noted in previous step, there are null values in the brewery name, profile name, and\n",
    "# ABV columns.\n",
    "# For the profile name and brewery name columns, there is so little missing data that I am comfortable removing\n",
    "# the rows where the data is missing - it is unlikely to affect the analysis much to delete so little data.\n",
    "# For the ABV, however, 4% is a lot of missing data. I know that ABV is strongly associated with the\n",
    "# style of beer. My strategy is to find the average ABV by type of beer and replace the missing ABV values\n",
    "# with the average of its corresponding beer_style."
   ]
  },
  {
   "cell_type": "code",
   "execution_count": 5,
   "metadata": {},
   "outputs": [],
   "source": [
    "beer_df = beer_df.dropna(subset=[\"brewery_name\"])\n",
    "beer_df = beer_df.dropna(subset=[\"review_profilename\"])\n",
    "#This code will drop rows where brewery_name and review_profilename are null"
   ]
  },
  {
   "cell_type": "code",
   "execution_count": 10,
   "metadata": {},
   "outputs": [
    {
     "name": "stdout",
     "output_type": "stream",
     "text": [
      "brewery_name          0\n",
      "review_time           0\n",
      "review_overall        0\n",
      "review_aroma          0\n",
      "review_appearance     0\n",
      "review_profilename    0\n",
      "beer_style            0\n",
      "review_palate         0\n",
      "review_taste          0\n",
      "beer_name             0\n",
      "beer_abv              0\n",
      "beer_beerid           0\n",
      "dtype: int64\n"
     ]
    }
   ],
   "source": [
    "print(beer_df.isnull().sum()) # Check for null values"
   ]
  },
  {
   "cell_type": "code",
   "execution_count": 9,
   "metadata": {},
   "outputs": [],
   "source": [
    "# I need to code imputing the data for abv based on style. For now, I'll replace the null\n",
    "# values with the average overall abv.\n",
    "beer_df['beer_abv'].fillna(beer_df['beer_abv'].mean(), inplace = True)"
   ]
  },
  {
   "cell_type": "markdown",
   "metadata": {
    "azdata_cell_guid": "1233f543-e9a0-4f78-96f5-d7536554102e"
   },
   "source": [
    "## Irregular Data\n",
    "\n",
    "Detect outliers in your dataset and handle them as needed. Use code comments to make notes about your thought process."
   ]
  },
  {
   "cell_type": "code",
   "execution_count": 37,
   "metadata": {},
   "outputs": [
    {
     "data": {
      "text/plain": [
       "[<matplotlib.axis.XTick at 0x1f105277640>,\n",
       " <matplotlib.axis.XTick at 0x1f105277610>,\n",
       " <matplotlib.axis.XTick at 0x1f1052741f0>,\n",
       " <matplotlib.axis.XTick at 0x1f10641d2e0>,\n",
       " <matplotlib.axis.XTick at 0x1f10641d7f0>,\n",
       " <matplotlib.axis.XTick at 0x1f10641dd00>]"
      ]
     },
     "execution_count": 37,
     "metadata": {},
     "output_type": "execute_result"
    },
    {
     "data": {
      "image/png": "[encoded data removed]",
      "text/plain": [
       "<Figure size 432x288 with 1 Axes>"
      ]
     },
     "metadata": {
      "needs_background": "light"
     },
     "output_type": "display_data"
    }
   ],
   "source": [
    "beer_df[\"beer_beerid\"] = beer_df[\"beer_beerid\"].astype(\"string\") \n",
    "#Making sure ID isn't charted as a number in future graphs!\n",
    "ax = sb.boxplot(data=beer_df, orient=\"h\", palette=\"Set2\")\n",
    "ax.set_xticks(range(6))\n",
    "# All review values appear to be within the 0-5 range"
   ]
  },
  {
   "cell_type": "code",
   "execution_count": 13,
   "metadata": {},
   "outputs": [
    {
     "data": {
      "image/png": "[encoded data removed]",
      "text/plain": [
       "<Figure size 432x288 with 1 Axes>"
      ]
     },
     "metadata": {
      "needs_background": "light"
     },
     "output_type": "display_data"
    }
   ],
   "source": [
    "ax = sb.boxplot(x=beer_df['beer_abv'], orient=\"h\", palette=\"Set2\")\n",
    "# Apparently there really are some beers that are 50%+ ABV so \n",
    "# it looks like all the values in this set check out."
   ]
  },
  {
   "cell_type": "markdown",
   "metadata": {
    "azdata_cell_guid": "6f5b8ee0-bab3-44bc-958a-67d1e4c0407f"
   },
   "source": [
    "## Unnecessary Data\n",
    "\n",
    "Look for the different types of unnecessary data in your dataset and address it as needed. Make sure to use code comments to illustrate your thought process."
   ]
  },
  {
   "cell_type": "code",
   "execution_count": 36,
   "metadata": {
    "azdata_cell_guid": "e788a239-2fbf-41de-9bd3-19e52e3b187c"
   },
   "outputs": [
    {
     "name": "stdout",
     "output_type": "stream",
     "text": [
      "<class 'pandas.core.frame.DataFrame'>\n",
      "Int64Index: 1586251 entries, 10325 to 14359\n",
      "Data columns (total 10 columns):\n",
      " #   Column              Non-Null Count    Dtype  \n",
      "---  ------              --------------    -----  \n",
      " 0   brewery_name        1586251 non-null  object \n",
      " 1   review_overall      1586251 non-null  float64\n",
      " 2   review_aroma        1586251 non-null  float64\n",
      " 3   review_appearance   1586251 non-null  float64\n",
      " 4   review_profilename  1586251 non-null  object \n",
      " 5   beer_style          1586251 non-null  object \n",
      " 6   review_palate       1586251 non-null  float64\n",
      " 7   review_taste        1586251 non-null  float64\n",
      " 8   beer_name           1586251 non-null  object \n",
      " 9   beer_beerid         1586251 non-null  string \n",
      "dtypes: float64(5), object(4), string(1)\n",
      "memory usage: 133.1+ MB\n"
     ]
    }
   ],
   "source": [
    "# The only variable I can think of that would be review time.\n",
    "# All the other review metrics will be helpful for analysis, and I would\n",
    "# like to keep username information in the system to analyze preference trends for \n",
    "# power users versus regualr users. The names of the breweries and beers and the style \n",
    "# will all still be relevant.\n",
    "# I will drop the review time and keep the rest of the data in.\n",
    "beer_df.drop (\"review_time\", axis=1, inplace=True)\n",
    "beer_df.info()"
   ]
  },
  {
   "cell_type": "markdown",
   "metadata": {
    "azdata_cell_guid": "53e0cf94-c68a-4fa0-9849-9505a66bcce6"
   },
   "source": [
    "## Inconsistent Data\n",
    "\n",
    "Check for inconsistent data and address any that arises. As always, use code comments to illustrate your thought process."
   ]
  },
  {
   "cell_type": "code",
   "execution_count": null,
   "metadata": {},
   "outputs": [],
   "source": [
    "# I know styles, brewery name, and beer name are the categorical columns in this dataframe. I can check \n",
    "# on styles manually:"
   ]
  },
  {
   "cell_type": "code",
   "execution_count": 17,
   "metadata": {},
   "outputs": [
    {
     "data": {
      "text/plain": [
       "array(['Altbier', 'American Adjunct Lager', 'American Amber / Red Ale',\n",
       "       'American Amber / Red Lager', 'American Barleywine',\n",
       "       'American Black Ale', 'American Blonde Ale', 'American Brown Ale',\n",
       "       'American Dark Wheat Ale', 'American Double / Imperial IPA',\n",
       "       'American Double / Imperial Pilsner',\n",
       "       'American Double / Imperial Stout', 'American IPA',\n",
       "       'American Malt Liquor', 'American Pale Ale (APA)',\n",
       "       'American Pale Lager', 'American Pale Wheat Ale',\n",
       "       'American Porter', 'American Stout', 'American Strong Ale',\n",
       "       'American Wild Ale', 'Baltic Porter', 'Belgian Dark Ale',\n",
       "       'Belgian IPA', 'Belgian Pale Ale', 'Belgian Strong Dark Ale',\n",
       "       'Belgian Strong Pale Ale', 'Berliner Weissbier',\n",
       "       'Bière de Champagne / Bière Brut', 'Bière de Garde', 'Black & Tan',\n",
       "       'Bock', 'Braggot', 'California Common / Steam Beer', 'Chile Beer',\n",
       "       'Cream Ale', 'Czech Pilsener', 'Doppelbock',\n",
       "       'Dortmunder / Export Lager', 'Dubbel', 'Dunkelweizen', 'Eisbock',\n",
       "       'English Barleywine', 'English Bitter', 'English Brown Ale',\n",
       "       'English Dark Mild Ale', 'English India Pale Ale (IPA)',\n",
       "       'English Pale Ale', 'English Pale Mild Ale', 'English Porter',\n",
       "       'English Stout', 'English Strong Ale', 'Euro Dark Lager',\n",
       "       'Euro Pale Lager', 'Euro Strong Lager',\n",
       "       'Extra Special / Strong Bitter (ESB)', 'Faro',\n",
       "       'Flanders Oud Bruin', 'Flanders Red Ale', 'Foreign / Export Stout',\n",
       "       'Fruit / Vegetable Beer', 'German Pilsener', 'Gose', 'Gueuze',\n",
       "       'Happoshu', 'Hefeweizen', 'Herbed / Spiced Beer',\n",
       "       'Irish Dry Stout', 'Irish Red Ale', 'Japanese Rice Lager',\n",
       "       'Keller Bier / Zwickel Bier', 'Kristalweizen', 'Kvass', 'Kölsch',\n",
       "       'Lambic - Fruit', 'Lambic - Unblended', 'Light Lager',\n",
       "       'Low Alcohol Beer', 'Maibock / Helles Bock', 'Milk / Sweet Stout',\n",
       "       'Munich Dunkel Lager', 'Munich Helles Lager',\n",
       "       'Märzen / Oktoberfest', 'Oatmeal Stout', 'Old Ale', 'Pumpkin Ale',\n",
       "       'Quadrupel (Quad)', 'Rauchbier', 'Roggenbier',\n",
       "       'Russian Imperial Stout', 'Rye Beer', 'Sahti',\n",
       "       'Saison / Farmhouse Ale', 'Schwarzbier', 'Scotch Ale / Wee Heavy',\n",
       "       'Scottish Ale', 'Scottish Gruit / Ancient Herbed Ale',\n",
       "       'Smoked Beer', 'Tripel', 'Vienna Lager', 'Weizenbock', 'Wheatwine',\n",
       "       'Winter Warmer', 'Witbier'], dtype=object)"
      ]
     },
     "execution_count": 17,
     "metadata": {},
     "output_type": "execute_result"
    }
   ],
   "source": [
    "styles = beer_df['beer_style'].unique()\n",
    "styles.sort()\n",
    "styles #All looks okay. As for brewery name and beer name, there are many values\n",
    "# that would have to be checked. I know from the website's interface that these names are generated from a picklist\n",
    "# instead of manual entry, so I don't expect inconsistencies in this data."
   ]
  },
  {
   "cell_type": "markdown",
   "metadata": {
    "azdata_cell_guid": "dedc0bfe-17d0-40b2-914f-2ddb54f9ce0d"
   },
   "source": [
    "## Summarize Your Results\n",
    "\n",
    "Make note of your answers to the following questions.\n",
    "\n",
    "1. Did you find all four types of dirty data in your dataset?\n",
    "2. Did the process of cleaning your data give you new insights into your dataset?\n",
    "3. Is there anything you would like to make note of when it comes to manipulating the data and making visualizations?"
   ]
  }
 ],
 "metadata": {
  "kernelspec": {
   "display_name": "Python 3",
   "language": "python",
   "name": "python3"
  },
  "language_info": {
   "codemirror_mode": {
    "name": "ipython",
    "version": 3
   },
   "file_extension": ".py",
   "mimetype": "text/x-python",
   "name": "python",
   "nbconvert_exporter": "python",
   "pygments_lexer": "ipython3",
   "version": "3.8.8"
  }
 },
 "nbformat": 4,
 "nbformat_minor": 4
}
